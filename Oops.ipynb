{
  "nbformat": 4,
  "nbformat_minor": 0,
  "metadata": {
    "colab": {
      "provenance": []
    },
    "kernelspec": {
      "name": "python3",
      "display_name": "Python 3"
    },
    "language_info": {
      "name": "python"
    }
  },
  "cells": [
    {
      "cell_type": "markdown",
      "source": [
        "#THEORY QUESTIONS:-\n",
        "\n",
        "1. What is Object-Oriented Programming (OOP)?\n",
        "- OOP is a programming paradigm based on the concept of “objects”, which contain data in the form of attributes and code in the form of methods. It promotes modularity, reusability, and organization of code.\n",
        "\n",
        "2. What is a class in OOP?\n",
        "- A class is a blueprint or template for creating objects. It defines a datatype by bundling data and methods that operate on the data into one unit.\n",
        "\n",
        "3. What is an object in OOP?\n",
        "- An object is an instance of a class. It represents a real-world entity with state (attributes) and behavior (methods)\n",
        "\n",
        "4. What is the difference between abstraction and encapsulation?\n",
        "- Abstraction hides implementation details and shows only relevant information.\n",
        "- Encapsulation binds data and methods together and restricts direct access using private/public access modifiers\n",
        "\n",
        "5. What are dunder methods in Python?\n",
        "- Dunder methods (double underscore), like __init__, __str__, __repr__, are special methods with double underscores used to define the behavior of objects with built-in Python functions.\n",
        "\n",
        "6. Explain the concept of inheritance in OOP.\n",
        "- Inheritance allows a class (child) to acquire properties and methods from another class (parent), enabling code reuse and hierarchy.\n",
        "\n",
        "7. What is polymorphism in OOP?\n",
        "- Polymorphism means the same method name or operator behaves differently based on the object that invokes it (e.g., method overriding).\n",
        "\n",
        "8. How is encapsulation achieved in Python?\n",
        "- Encapsulation is achieved using private (__variable) and protected (_variable) attributes along with getter and setter methods to control access.\n",
        "\n",
        "9. What is a constructor in Python?\n",
        "- A constructor is a special method __init__() used to initialize an object’s state when it is created.\n",
        "\n",
        "10. What are class and static methods in Python?\n",
        "- Class methods use @classmethod and take cls as the first parameter.\n",
        "- Static methods use @staticmethod and don’t take self or cls. They belong to the class but don’t access instance/class data.\n",
        "\n",
        "11. What is method overloading in Python?\n",
        "- Python doesn’t support traditional method overloading. However, default arguments or variable-length arguments can simulate it.\n",
        "\n",
        "\n",
        "12. What is method overriding in OOP?\n",
        "- Method overriding occurs when a child class provides a specific implementation of a method already defined in its parent class.\n",
        "\n",
        "13. What is a property decorator in Python?\n",
        "- The @property decorator is used to define a method as a getter for a property, allowing access like an attribute while still using a method.\n",
        "\n",
        "14. Why is polymorphism important in OOP?\n",
        "- Polymorphism allows flexibility and reusability in code by enabling one interface to be used for different data types or objects.\n",
        "\n",
        "15. What is an abstract class in Python?\n",
        "- An abstract class (defined using abc.ABC) cannot be instantiated directly and must have at least one abstract method, which must be implemented by its subclass.\n",
        "\n",
        "16. What are the advantages of OOP?\n",
        "- Code reusability\n",
        "\n",
        "- Encapsulation\n",
        "\n",
        "- Polymorphism\n",
        "\n",
        "- Easy maintenance\n",
        "\n",
        "- Improved productivity through modularity\n",
        "\n",
        "17. What is the difference between a class variable and an instance variable?\n",
        "Class variable is shared across all instances of the class.\n",
        "\n",
        "- Instance variable is unique to each object.\n",
        "\n",
        "18. What is multiple inheritance in Python?\n",
        "- Multiple inheritance allows a class to inherit from more than one base class. Python supports it but may cause ambiguity resolved using MRO (Method Resolution Order).\n",
        "\n",
        "19. Explain the purpose of __str__ and __repr__ methods in Python.\n",
        "- __str__() returns a readable string for users.\n",
        "\n",
        "- __repr__() returns an unambiguous string for developers, often used in debugging.\n",
        "\n",
        "20. What is the significance of the super() function in Python?\n",
        "- super() is used to call the parent class method from the child class, especially in method overriding and constructors.\n",
        "\n",
        "21. What is the significance of the __del__ method in Python?\n",
        "- __del__ is a destructor method called when an object is deleted or goes out of scope, used for cleanup operations.\n",
        "\n",
        "22. What is the difference between @staticmethod and @classmethod in Python?\n",
        "- @staticmethod doesn’t take class or instance reference.\n",
        "\n",
        "- @classmethod takes class reference (cls) and can modify class state.\n",
        "\n",
        "23. How does polymorphism work in Python with inheritance?\n",
        "- A method defined in a parent class can be overridden by a child class. When called through a reference, Python uses the child’s method at runtime (dynamic dispatch).\n",
        "\n",
        "24. What is method chaining in Python OOP?\n",
        "- Method chaining is calling multiple methods on the same object in a single line by returning self from each method.\n",
        "\n",
        "25. What is the purpose of the __call__ method in Python?\n",
        "- __call__() allows an instance of a class to be called like a function. It enables callable objects and is used in decorators or factories.\n",
        "\n",
        "\n",
        "#PRACTICAL QUESTIONS:\n",
        "\n"
      ],
      "metadata": {
        "id": "x1bDlCry5pNv"
      }
    },
    {
      "cell_type": "code",
      "source": [
        "#1. Animal & Dog with method override\n",
        "class Animal:\n",
        "    def speak(self):\n",
        "        print(\"Animal speaks\")\n",
        "\n",
        "class Dog(Animal):\n",
        "    def speak(self):\n",
        "        print(\"Bark!\")\n",
        "\n",
        "dog = Dog()\n",
        "dog.speak()"
      ],
      "metadata": {
        "colab": {
          "base_uri": "https://localhost:8080/"
        },
        "id": "pBe5BgWm9bh2",
        "outputId": "a1c9ccef-b44a-4690-deba-9733e0efcf07"
      },
      "execution_count": null,
      "outputs": [
        {
          "output_type": "stream",
          "name": "stdout",
          "text": [
            "Bark!\n"
          ]
        }
      ]
    },
    {
      "cell_type": "code",
      "source": [
        "#2. Abstract class Shape with Circle & Rectangle\n",
        "from abc import ABC, abstractmethod\n",
        "\n",
        "class Shape(ABC):\n",
        "    @abstractmethod\n",
        "    def area(self):\n",
        "        pass\n",
        "\n",
        "class Circle(Shape):\n",
        "    def __init__(self, radius):\n",
        "        self.radius = radius\n",
        "\n",
        "    def area(self):\n",
        "        return 3.14 * self.radius * self.radius\n",
        "\n",
        "class Rectangle(Shape):\n",
        "    def __init__(self, length, breadth):\n",
        "        self.length = length\n",
        "        self.breadth = breadth\n",
        "\n",
        "    def area(self):\n",
        "        return self.length * self.breadth\n"
      ],
      "metadata": {
        "id": "S9XV3XQ69ltJ"
      },
      "execution_count": null,
      "outputs": []
    },
    {
      "cell_type": "code",
      "source": [
        "#3. Multilevel Inheritance: Vehicle → Car → ElectricCar\n",
        "class Vehicle:\n",
        "    def __init__(self, type):\n",
        "        self.type = type\n",
        "\n",
        "class Car(Vehicle):\n",
        "    def __init__(self, type, model):\n",
        "        super().__init__(type)\n",
        "        self.model = model\n",
        "\n",
        "class ElectricCar(Car):\n",
        "    def __init__(self, type, model, battery):\n",
        "        super().__init__(type, model)\n",
        "        self.battery = battery"
      ],
      "metadata": {
        "id": "lbXV5w4U-F0d"
      },
      "execution_count": null,
      "outputs": []
    },
    {
      "cell_type": "code",
      "source": [
        "#4. Polymorphism with Bird, Sparrow, Penguin\n",
        "class Bird:\n",
        "    def fly(self):\n",
        "        print(\"Some birds can fly\")\n",
        "\n",
        "class Sparrow(Bird):\n",
        "    def fly(self):\n",
        "        print(\"Sparrow flies high\")\n",
        "\n",
        "class Penguin(Bird):\n",
        "    def fly(self):\n",
        "        print(\"Penguin cannot fly\")"
      ],
      "metadata": {
        "id": "M_AdHlYU-O7X"
      },
      "execution_count": null,
      "outputs": []
    },
    {
      "cell_type": "code",
      "source": [
        "#5. Encapsulation - BankAccount\n",
        "class BankAccount:\n",
        "    def __init__(self):\n",
        "        self.__balance = 0\n",
        "\n",
        "    def deposit(self, amount):\n",
        "        self.__balance += amount\n",
        "\n",
        "    def withdraw(self, amount):\n",
        "        if amount <= self.__balance:\n",
        "            self.__balance -= amount\n",
        "\n",
        "    def check_balance(self):\n",
        "        return self.__balance"
      ],
      "metadata": {
        "id": "14AhWCw1-Ypz"
      },
      "execution_count": null,
      "outputs": []
    },
    {
      "cell_type": "code",
      "source": [
        "#6. Runtime Polymorphism with Instrument\n",
        "class Instrument:\n",
        "    def play(self):\n",
        "        print(\"Instrument is playing\")\n",
        "\n",
        "class Guitar(Instrument):\n",
        "    def play(self):\n",
        "        print(\"Guitar is playing\")\n",
        "\n",
        "class Piano(Instrument):\n",
        "    def play(self):\n",
        "        print(\"Piano is playing\")"
      ],
      "metadata": {
        "id": "T-ERWMuy-f8L"
      },
      "execution_count": null,
      "outputs": []
    },
    {
      "cell_type": "code",
      "source": [
        "#7. MathOperations with class and static methods\n",
        "class MathOperations:\n",
        "    @classmethod\n",
        "    def add_numbers(cls, a, b):\n",
        "        return a + b\n",
        "\n",
        "    @staticmethod\n",
        "    def subtract_numbers(a, b):\n",
        "        return a - b"
      ],
      "metadata": {
        "id": "SPs27lSP-mOU"
      },
      "execution_count": null,
      "outputs": []
    },
    {
      "cell_type": "code",
      "source": [
        "#8. Count persons using class method\n",
        "class Person:\n",
        "    count = 0\n",
        "\n",
        "    def __init__(self):\n",
        "        Person.count += 1\n",
        "\n",
        "    @classmethod\n",
        "    def total_persons(cls):\n",
        "        return cls.count"
      ],
      "metadata": {
        "id": "B0OsgnnX-ter"
      },
      "execution_count": null,
      "outputs": []
    },
    {
      "cell_type": "code",
      "source": [
        "#9. Fraction with __str__ method\n",
        "class Fraction:\n",
        "    def __init__(self, numerator, denominator):\n",
        "        self.numerator = numerator\n",
        "        self.denominator = denominator\n",
        "\n",
        "    def __str__(self):\n",
        "        return f\"{self.numerator}/{self.denominator}\""
      ],
      "metadata": {
        "id": "oSHQt07c-0m4"
      },
      "execution_count": null,
      "outputs": []
    },
    {
      "cell_type": "code",
      "source": [
        "#10. Operator Overloading - Vector addition\n",
        "class Vector:\n",
        "    def __init__(self, x, y):\n",
        "        self.x = x\n",
        "        self.y = y\n",
        "\n",
        "    def __add__(self, other):\n",
        "        return Vector(self.x + other.x, self.y + other.y)\n",
        "\n",
        "    def __str__(self):\n",
        "        return f\"({self.x}, {self.y})\""
      ],
      "metadata": {
        "id": "EpJioVDI-7N8"
      },
      "execution_count": null,
      "outputs": []
    },
    {
      "cell_type": "code",
      "source": [
        "#11. Person with greet method\n",
        "class Person:\n",
        "    def __init__(self, name, age):\n",
        "        self.name = name\n",
        "        self.age = age\n",
        "\n",
        "    def greet(self):\n",
        "        print(f\"Hello, my name is {self.name} and I am {self.age} years old.\")"
      ],
      "metadata": {
        "id": "fpo_s9FZ_CHI"
      },
      "execution_count": null,
      "outputs": []
    },
    {
      "cell_type": "code",
      "source": [
        "#12. Student average grade\n",
        "class Student:\n",
        "    def __init__(self, name, grades):\n",
        "        self.name = name\n",
        "        self.grades = grades\n",
        "\n",
        "    def average_grade(self):\n",
        "        return sum(self.grades) / len(self.grades)"
      ],
      "metadata": {
        "id": "7UGLT3Hu_HqN"
      },
      "execution_count": null,
      "outputs": []
    },
    {
      "cell_type": "code",
      "source": [
        "#13. Rectangle with set_dimensions and area\n",
        "class Rectangle:\n",
        "    def set_dimensions(self, length, width):\n",
        "        self.length = length\n",
        "        self.width = width\n",
        "\n",
        "    def area(self):\n",
        "        return self.length * self.width"
      ],
      "metadata": {
        "id": "q3g16hdG_baL"
      },
      "execution_count": null,
      "outputs": []
    },
    {
      "cell_type": "code",
      "source": [
        "#14. Employee & Manager with salary\n",
        "class Employee:\n",
        "    def calculate_salary(self, hours, rate):\n",
        "        return hours * rate\n",
        "\n",
        "class Manager(Employee):\n",
        "    def calculate_salary(self, hours, rate, bonus):\n",
        "        return super().calculate_salary(hours, rate) + bonus"
      ],
      "metadata": {
        "id": "sVZdPjEj_ik0"
      },
      "execution_count": null,
      "outputs": []
    },
    {
      "cell_type": "code",
      "source": [
        "#15. Product with total price\n",
        "class Product:\n",
        "    def __init__(self, name, price, quantity):\n",
        "        self.name = name\n",
        "        self.price = price\n",
        "        self.quantity = quantity\n",
        "\n",
        "    def total_price(self):\n",
        "        return self.price * self.quantity"
      ],
      "metadata": {
        "id": "bgCEFJqW_oNh"
      },
      "execution_count": null,
      "outputs": []
    },
    {
      "cell_type": "code",
      "source": [
        "#16. Abstract Animal with sound method\n",
        "from abc import ABC, abstractmethod\n",
        "\n",
        "class Animal(ABC):\n",
        "    @abstractmethod\n",
        "    def sound(self):\n",
        "        pass\n",
        "\n",
        "class Cow(Animal):\n",
        "    def sound(self):\n",
        "        print(\"Moo\")\n",
        "\n",
        "class Sheep(Animal):\n",
        "    def sound(self):\n",
        "        print(\"Baa\")\n"
      ],
      "metadata": {
        "id": "IF-dJVVZ_wJr"
      },
      "execution_count": null,
      "outputs": []
    },
    {
      "cell_type": "code",
      "source": [
        "#17. Book with get_book_info\n",
        "class Book:\n",
        "    def __init__(self, title, author, year_published):\n",
        "        self.title = title\n",
        "        self.author = author\n",
        "        self.year_published = year_published\n",
        "\n",
        "    def get_book_info(self):\n",
        "        return f\"{self.title} by {self.author}, published in {self.year_published}\"\n"
      ],
      "metadata": {
        "id": "bx_GD-f6_zji"
      },
      "execution_count": null,
      "outputs": []
    },
    {
      "cell_type": "code",
      "source": [
        "#18. House and Mansion inheritance\n",
        "class House:\n",
        "    def __init__(self, address, price):\n",
        "        self.address = address\n",
        "        self.price = price\n",
        "\n",
        "class Mansion(House):\n",
        "    def __init__(self, address, price, number_of_rooms):\n",
        "        super().__init__(address, price)\n",
        "        self.number_of_rooms = number_of_rooms\n"
      ],
      "metadata": {
        "id": "TkcSpBov__ox"
      },
      "execution_count": null,
      "outputs": []
    },
    {
      "cell_type": "code",
      "source": [],
      "metadata": {
        "id": "6GF5ulR4AGCV"
      },
      "execution_count": null,
      "outputs": []
    }
  ]
}